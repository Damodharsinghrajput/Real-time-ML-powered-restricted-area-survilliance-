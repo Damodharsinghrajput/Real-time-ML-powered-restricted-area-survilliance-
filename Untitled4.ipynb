{
 "cells": [
  {
   "cell_type": "code",
   "execution_count": null,
   "id": "16d62fac-397a-4d7e-9566-a48f44645eb4",
   "metadata": {},
   "outputs": [],
   "source": [
    "import cv2\n",
    "import face_recognition\n",
    "\n",
    "# Load known face encodings and names\n",
    "known_face_encodings = []\n",
    "known_face_names = []\n",
    "\n",
    "# Load known faces and their names here\n",
    "known_person1_image = face_recognition.load_image_file(\"JSKV.jpg\")\n",
    "known_person2_image = face_recognition.load_image_file(\"Darshan.jpg\")\n",
    "known_person3_image = face_recognition.load_image_file(\"Damodhar.jpg\")\n",
    "\n",
    "known_person1_encoding = face_recognition.face_encodings(known_person1_image)[0]\n",
    "known_person2_encoding = face_recognition.face_encodings(known_person2_image)[0]\n",
    "known_person3_encoding = face_recognition.face_encodings(known_person3_image)[0]\n",
    "\n",
    "known_face_encodings.append(known_person1_encoding)\n",
    "known_face_encodings.append(known_person2_encoding)\n",
    "known_face_encodings.append(known_person3_encoding)\n",
    "\n",
    "known_face_names.append(\"Person 1\")\n",
    "known_face_names.append(\"Person 2\")\n",
    "known_face_names.append(\"Person 3\")\n",
    "\n",
    "# Initialize webcam\n",
    "video_capture = cv2.VideoCapture(0)\n",
    "\n",
    "while True:\n",
    "    # Capture frame-by-frame\n",
    "    ret, frame = video_capture.read()\n",
    "\n",
    "    # Find all face locations in the current frame\n",
    "    face_locations = face_recognition.face_locations(frame)\n",
    "    face_encodings = face_recognition.face_encodings(frame, face_locations)\n",
    "\n",
    "    # Loop through each face found in the frame\n",
    "    for (top, right, bottom, left), face_encoding in zip(face_locations, face_encodings):\n",
    "        # Check if the face matches any known faces\n",
    "        matches = face_recognition.compare_faces(known_face_encodings, face_encoding)\n",
    "        name = \"Unknown\"\n",
    "\n",
    "        if True in matches:\n",
    "            first_match_index = matches.index(True)\n",
    "            name = known_face_names[first_match_index]\n",
    "\n",
    "        # Draw a box around the face and label with the name\n",
    "        cv2.rectangle(frame, (left, top), (right, bottom), (0, 0, 255), 2)\n",
    "        cv2.putText(frame, name, (left, top - 10), cv2.FONT_HERSHEY_SIMPLEX, 0.9, (0, 0, 255), 2)\n",
    "\n",
    "    # Display the resulting frame\n",
    "    cv2.imshow(\"Video\", frame)\n",
    "\n",
    "    # Break the loop when the 'q' key is pressed\n",
    "    if cv2.waitKey(1) & 0xFF == ord('q'):\n",
    "        break\n",
    "\n",
    "# Release the webcam and close OpenCV windows\n",
    "video_capture.release()\n",
    "cv2.destroyAllWindows()\n"
   ]
  },
  {
   "cell_type": "code",
   "execution_count": null,
   "id": "648658b3-4382-42d4-8ad6-bfd581a84fc4",
   "metadata": {},
   "outputs": [],
   "source": []
  }
 ],
 "metadata": {
  "kernelspec": {
   "display_name": ".projenv",
   "language": "python",
   "name": ".projenv"
  },
  "language_info": {
   "codemirror_mode": {
    "name": "ipython",
    "version": 3
   },
   "file_extension": ".py",
   "mimetype": "text/x-python",
   "name": "python",
   "nbconvert_exporter": "python",
   "pygments_lexer": "ipython3",
   "version": "3.11.9"
  },
  "widgets": {
   "application/vnd.jupyter.widget-state+json": {
    "state": {},
    "version_major": 2,
    "version_minor": 0
   }
  }
 },
 "nbformat": 4,
 "nbformat_minor": 5
}
